{
    "nbformat_minor": 1, 
    "cells": [
        {
            "source": "# Capstone Project - The Battle of Neighborhoods - Final Project Report", 
            "cell_type": "markdown", 
            "metadata": {
                "collapsed": true
            }
        }, 
        {
            "source": "#### Author: Ratnesh Mehrotra", 
            "cell_type": "markdown", 
            "metadata": {}
        }, 
        {
            "source": "## Section:  Introduction/Business Problem", 
            "cell_type": "markdown", 
            "metadata": {}
        }, 
        {
            "source": "An Indian movie, with cast of superstars, is slated to be released in USA, with screenings to commence from New York City. To make it a big commercial success, the distributor of the movie, who will get rights only for screening limited number of prints, would like to assess which movie theatres in New York boroughs should be selected which are likely to attract more viewers than the theatres in other locations in the city. Earlier ventures of randomly selecting theatres had met with not so impressive response from the Indian diaspora in New York city. In order to promote the movie, the distributor is also contemplating subsidizing a promotional offer.\n\nThe task, thus, is to suggest best locations of theatres which can be shortlisted for screening of the Indian movie. ", 
            "cell_type": "markdown", 
            "metadata": {}
        }, 
        {
            "source": "## Section: Data", 
            "cell_type": "markdown", 
            "metadata": {}
        }, 
        {
            "source": "The approach to providing a solution for this problem is premised on the fact that Indian movie goers love to dine out and shop after watching movies. Cuisines most popular with the community is Indian and Chinese. \n\nBased on this premise, approach shall be to determine theatres located in areas having good restaurants and malls, segment them and identify those segments which have the highest number of Chinese and Indian restaurants, Malls and Theatres\n\nFor this purpose, following data shall be collected and used for the analysis:\n\n1) <B>Neighbourhoods Data </B>in selected boroughs of New York, with the geo-code of each neighbourhood.\nThis is a .json format. A sample snippet of the data for Bronx neighbourhood Wakefield is shown below. It shall have to be parsed to extract the name of neighborhood, borough, and latitude & longitude\n\n<BR>\n<i>\n{\n'geometry': {'coordinates': [-73.84720052054902, 40.89470517661],\n  'type': 'Point'},\n 'geometry_name': 'geom',\n 'id': 'nyu_2451_34572.1',\n 'properties': {'annoangle': 0.0,\n  'annoline1': 'Wakefield',\n  'annoline2': None,\n  'annoline3': None,\n  'bbox': [-73.84720052054902,\n   40.89470517661,\n   -73.84720052054902,\n   40.89470517661],\n  'borough': 'Bronx',\n  'name': 'Wakefield',\n  'stacked': 1},\n 'type': 'Feature'\n }\n \n</i>\n\n2)\t<B>List of venues</B>,for each neighbourhood, within a specified radial distance from the co-ordinates of the neighborhood. This shall make use of FourSquare API:https://api.foursquare.com/v2/venues/explore with required parameters, called in as many times as there are neighborhoods.\n\nA sample snippet of JSON output response from the API call is shown below. The key information is within items tag. This JSON output will have to be parsed to extract relevant fields.\n\n<i>\n\n{'meta': {'code': 200, 'requestId': '5c3e1a33db04f57d200b8293'},\n 'response': {'suggestedFilters': {'header': 'Tap to show:',\n   'filters': [{'name': 'Open now', 'key': 'openNow'}]},\n  'headerLocation': 'Marble Hill',\n  'headerFullLocation': 'Marble Hill, New York',\n  'headerLocationGranularity': 'neighborhood',\n  'totalResults': 24,\n  'suggestedBounds': {'ne': {'lat': 40.88105078329964,\n    'lng': -73.90471933917806},\n   'sw': {'lat': 40.87205077429964, 'lng': -73.91659997808156}},\n  'groups': [{'type': 'Recommended Places',\n    'name': 'recommended',\n    'items': [{'reasons': {'count': 0,\n       'items': [{'summary': 'This spot is popular',\n         'type': 'general',\n         'reasonName': 'globalInteractionReason'}]},\n      'venue': {'id': '4b4429abf964a52037f225e3',\n       'name': \"Arturo's\",\n       'location': {'address': '5198 Broadway',\n        'crossStreet': 'at 225th St.',\n        'lat': 40.87441177110231,\n        'lng': -73.91027100981574,\n        'labeledLatLngs': [{'label': 'display',\n          'lat': 40.87441177110231,\n          'lng': -73.91027100981574}],\n        'distance': 240,\n        'postalCode': '10463',\n        'cc': 'US',\n        'city': 'New York',\n        'state': 'NY',\n        'country': 'United States',\n        'formattedAddress': ['5198 Broadway (at 225th St.)',\n         'New York, NY 10463',\n         'United States']},\n       'categories': [{'id': '4bf58dd8d48988d1ca941735',\n         'name': 'Pizza Place',\n         'pluralName': 'Pizza Places',\n         'shortName': 'Pizza',\n         'icon': {'prefix': 'https://ss3.4sqi.net/img/categories_v2/food/pizza_',\n          'suffix': '.png'},\n         'primary': True}],\n       'delivery': {'id': '72548',\n        'url': 'https://www.seamless.com/menu/arturos-pizza-5189-broadway-ave-new-york/72548?affiliate=1131&utm_source=foursquare-affiliate-network&utm_medium=affiliate&utm_campaign=1131&utm_content=72548',\n        'provider': {'name': 'seamless',\n         'icon': {'prefix': 'https://fastly.4sqi.net/img/general/cap/',\n          'sizes': [40, 50],\n          'name': '/delivery_provider_seamless_2018\n </i>         \n\n3)\tFrom the list of venues, retain the venues which are Theatres, Indian and Chinese Restaurants and Malls.\n\n4)\tStudy and Analyse  the data. For e.g. \n    <li> a) group rows by neighborhood and by taking the mean of the frequency of occurrence of each category</li>\n    <li> b) Convert any categorical data into dummy values using one hot encoding</li>\n    <li> c) Display popular venues for each neighborhood</li>\n\n\nSince this problem lies in realm of identification of clusters having Theatres and Restaurants, clustering technique shall be applied to create clusters. For each cluster, a summary of count of restaurants, malls and theatres shall be printed \n\n<B>Sources of Data:</B>\n\nUse the link https://geo.nyu.edu/catalog/nyu_2451_34572 for getting details of neighborhoods in a given borough of New York, along with their geo-codes.\n\nUse FourSquare APIs to get popular venues in a neighbourhood. Use FourSquare defined categories to select venues of interest viz. \u201cMovie Theater\u201d, \u201cIndian Restaurant\u201d, \u201cChinese Restaurant\u201d, \"Mall\u201d\n\n", 
            "cell_type": "markdown", 
            "metadata": {}
        }, 
        {
            "execution_count": null, 
            "cell_type": "code", 
            "metadata": {}, 
            "outputs": [], 
            "source": ""
        }
    ], 
    "metadata": {
        "kernelspec": {
            "display_name": "Python 3.5", 
            "name": "python3", 
            "language": "python"
        }, 
        "language_info": {
            "mimetype": "text/x-python", 
            "nbconvert_exporter": "python", 
            "version": "3.5.5", 
            "name": "python", 
            "file_extension": ".py", 
            "pygments_lexer": "ipython3", 
            "codemirror_mode": {
                "version": 3, 
                "name": "ipython"
            }
        }
    }, 
    "nbformat": 4
}